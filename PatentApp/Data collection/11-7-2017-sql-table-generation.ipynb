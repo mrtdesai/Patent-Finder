{
 "cells": [
  {
   "cell_type": "code",
   "execution_count": 1,
   "metadata": {
    "collapsed": true
   },
   "outputs": [],
   "source": [
    "import numpy as np\n",
    "import pandas as pd\n",
    "import json\n",
    "import requests\n",
    "import time\n",
    "import itertools\n",
    "import sqlite3\n",
    "import operator"
   ]
  },
  {
   "cell_type": "code",
   "execution_count": 2,
   "metadata": {
    "collapsed": true
   },
   "outputs": [],
   "source": [
    "def patent_date(patent):\n",
    "    try:\n",
    "        return patent['patent_date']\n",
    "    except:\n",
    "        return ''\n",
    "\n",
    "def patent_num_cited_by_us_patents(patent):\n",
    "    try:\n",
    "        return patent['patent_num_cited_by_us_patents']\n",
    "    except:\n",
    "        return ''\n",
    "\n",
    "def patent_num_us_patent_citations(patent):\n",
    "    try:\n",
    "        return patent['patent_num_us_patent_citations']\n",
    "    except:\n",
    "        return ''\n",
    "\n",
    "def patent_date(patent):\n",
    "    try:\n",
    "        return patent['patent_date']\n",
    "    except:\n",
    "        return ''\n",
    "    \n",
    "def patent_number(patent):\n",
    "    try:\n",
    "        return patent['patent_number']\n",
    "    except:\n",
    "        return ''\n",
    "\n",
    "def patent_title(patent):\n",
    "    try:\n",
    "        return patent['patent_title']\n",
    "    except:\n",
    "        return ''\n",
    "\n",
    "def patent_type(patent):\n",
    "    try:\n",
    "        return patent['patent_type']\n",
    "    except:\n",
    "        return ''\n",
    "\n",
    "def patent_year(patent):\n",
    "    try:\n",
    "        return patent['patent_year']\n",
    "    except:\n",
    "        return ''\n",
    "    \n",
    "def patent_abstract(patent):\n",
    "    try:\n",
    "        return patent['patent_abstract']\n",
    "    except:\n",
    "        return ''\n",
    "\n",
    "def cpc_category(patent):\n",
    "    try:\n",
    "        return patent['cpcs'][0]['cpc_category']\n",
    "    except:\n",
    "        return ''\n",
    "    \n",
    "def cpc_section_id(patent):\n",
    "    try:\n",
    "        return patent['cpcs'][0]['cpc_section_id']\n",
    "    except:\n",
    "        return ''\n",
    "\n",
    "def assignee_city(patent):\n",
    "    try:\n",
    "        return patent['assignees'][0]['assignee_city']\n",
    "    except:\n",
    "        return ''\n",
    "\n",
    "def assignee_country(patent):\n",
    "    try:\n",
    "        return patent['assignees'][0]['assignee_country']\n",
    "    except:\n",
    "        return ''\n",
    "\n",
    "def assignee_latitude(patent):\n",
    "    try:\n",
    "        return patent['assignees'][0]['assignee_latitude']\n",
    "    except:\n",
    "        return ''\n",
    "\n",
    "def assignee_longitude(patent):\n",
    "    try:\n",
    "        return patent['assignees'][0]['assignee_longitude']\n",
    "    except:\n",
    "        return ''\n",
    "\n",
    "def assignee_organization(patent):\n",
    "    try:\n",
    "        return patent['assignees'][0]['assignee_organization']\n",
    "    except:\n",
    "        return ''\n",
    "\n",
    "def assignee_state(patent):\n",
    "    try:\n",
    "        return patent['assignees'][0]['assignee_state']\n",
    "    except:\n",
    "        return ''\n",
    "\n",
    "def assignee_type(patent):\n",
    "    try:\n",
    "        return patent['assignees'][0]['assignee_type']\n",
    "    except:\n",
    "        return ''\n",
    "\n",
    "def cited_patents(patent):\n",
    "    if patent_num_us_patent_citations(patent) != '0':\n",
    "        patentnum = patent_number(patent)\n",
    "        rows = []\n",
    "        for dictt in patent['cited_patents']:\n",
    "            if dictt['cited_patent_number'] == None:\n",
    "                continue\n",
    "            else:\n",
    "                rows.append((patentnum,patent_num_us_patent_citations(patent),dictt['cited_patent_number'],dictt['cited_patent_title']))\n",
    "        return rows\n",
    "    else:\n",
    "        return ''\n",
    "\n",
    "def citedby_patents(patent):\n",
    "    if patent_num_cited_by_us_patents(patent) != '0':\n",
    "        patentnum = patent_number(patent)\n",
    "        rows = []\n",
    "        for dictt in patent['citedby_patents']:\n",
    "            if dictt['citedby_patent_number'] == None:\n",
    "                continue\n",
    "            else:\n",
    "                rows.append((patentnum,patent_num_cited_by_us_patents(patent),dictt['citedby_patent_number'],dictt['citedby_patent_title']))\n",
    "        return rows\n",
    "    else:\n",
    "        return ''\n",
    "\n",
    "def first_inventor_name(patent):\n",
    "    try:\n",
    "        inventors= patent['inventors']\n",
    "    except:\n",
    "        return ''\n",
    "    inventors.sort(key=operator.itemgetter('inventor_sequence'))\n",
    "    if len(inventors) >0 and None not in inventors[0].values(): \n",
    "        if len(inventors[0]['inventor_first_name']) >0:\n",
    "            return inventors[0]['inventor_first_name'] + ' ' + inventors[0]['inventor_last_name']\n",
    "        else:\n",
    "            return ''\n",
    "    else:\n",
    "        return ''\n",
    "\n",
    "def coinventors(patent):\n",
    "    try:\n",
    "        inventors = patent['inventors']\n",
    "    except:\n",
    "        return ''\n",
    "    inventors.sort(key=operator.itemgetter('inventor_sequence'))\n",
    "    coinventors = ''\n",
    "    \n",
    "    if len(inventors)>0:\n",
    "        for i in range(1,len(inventors)):\n",
    "            if None not in inventors[i].values():\n",
    "                if i == len(inventors) - 1:\n",
    "                    coinventors = coinventors + inventors[i]['inventor_first_name'] + ' ' + inventors[i]['inventor_last_name']\n",
    "                else:\n",
    "                    coinventors = coinventors + inventors[i]['inventor_first_name'] + ' ' + inventors[i]['inventor_last_name'] + ', '\n",
    "            else:\n",
    "                return ''\n",
    "        return coinventors\n",
    "    else:\n",
    "        return ''\n",
    "\n",
    "def cpc_category(patent):\n",
    "    try:\n",
    "        return patent['cpcs'][0]['cpc_category']\n",
    "    except:\n",
    "        return ''\n",
    "\n",
    "def cpc_section_id(patent):\n",
    "    try:\n",
    "        return patent['cpcs'][0]['cpc_section_id']\n",
    "    except:\n",
    "        return ''\n"
   ]
  },
  {
   "cell_type": "code",
   "execution_count": 3,
   "metadata": {
    "collapsed": true
   },
   "outputs": [],
   "source": [
    "sqlite_file = 'Patent-Project-Rev1.sqlite'\n",
    "conn = sqlite3.connect(sqlite_file)\n",
    "c = conn.cursor()"
   ]
  },
  {
   "cell_type": "code",
   "execution_count": 4,
   "metadata": {
    "collapsed": true
   },
   "outputs": [],
   "source": [
    "conn.commit()"
   ]
  },
  {
   "cell_type": "code",
   "execution_count": 33,
   "metadata": {},
   "outputs": [
    {
     "data": {
      "text/plain": [
       "<sqlite3.Cursor at 0x86d69d0>"
      ]
     },
     "execution_count": 33,
     "metadata": {},
     "output_type": "execute_result"
    }
   ],
   "source": [
    "#c.execute('''CREATE TABLE Patents (patent_number TEXT PRIMARY KEY,\n",
    "patent_date TEXT,\n",
    "patent_type TEXT,\n",
    "patent_year INTEGER,\n",
    "patent_title TEXT,\n",
    "patent_abstract TEXT,\n",
    "first_inventor TEXT,\n",
    "co_inventors TEXT,\n",
    "cpc_category TEXT,\n",
    "cpc_section_id TEXT,\n",
    "assignee_city TEXT,\n",
    "assignee_country TEXT,\n",
    "assignee_organization TEXT,\n",
    "assignee_state TEXT,\n",
    "assignee_type TEXT,\n",
    "no_patents_citeby INTEGER,\n",
    "no_patents_cited INTEGER\n",
    ");''')"
   ]
  },
  {
   "cell_type": "code",
   "execution_count": 34,
   "metadata": {},
   "outputs": [
    {
     "data": {
      "text/plain": [
       "<sqlite3.Cursor at 0x86d69d0>"
      ]
     },
     "execution_count": 34,
     "metadata": {},
     "output_type": "execute_result"
    }
   ],
   "source": [
    "#c.execute('''CREATE TABLE PatentsCited (patent_number TEXT,\n",
    "no_patents_cited INTEGER,\n",
    "cited_patent_number TEXT,\n",
    "cited_patent_title TEXT\n",
    ");''')"
   ]
  },
  {
   "cell_type": "code",
   "execution_count": 13,
   "metadata": {
    "collapsed": true
   },
   "outputs": [],
   "source": [
    "request_lapse = 1\n",
    "page_num = 1\n",
    "per_page = 2000\n",
    "patents_json = []\n",
    "num_patents_read = 0\n",
    "count = 0\n",
    "total_patents = 10000"
   ]
  },
  {
   "cell_type": "code",
   "execution_count": 14,
   "metadata": {},
   "outputs": [
    {
     "name": "stdout",
     "output_type": "stream",
     "text": [
      "Total number of patents to read 100000\n",
      "Read 2000 patents from PatentsView.org so far\n",
      "Read 4000 patents from PatentsView.org so far\n",
      "Read 6000 patents from PatentsView.org so far\n",
      "Read 8000 patents from PatentsView.org so far\n",
      "Read 10000 patents from PatentsView.org so far\n",
      "Read 12000 patents from PatentsView.org so far\n",
      "Read 14000 patents from PatentsView.org so far\n",
      "Read 16000 patents from PatentsView.org so far\n",
      "Read 18000 patents from PatentsView.org so far\n",
      "Read 20000 patents from PatentsView.org so far\n",
      "Read 22000 patents from PatentsView.org so far\n",
      "Read 24000 patents from PatentsView.org so far\n",
      "Read 26000 patents from PatentsView.org so far\n",
      "Read 28000 patents from PatentsView.org so far\n",
      "Read 30000 patents from PatentsView.org so far\n",
      "Read 32000 patents from PatentsView.org so far\n",
      "Read 34000 patents from PatentsView.org so far\n",
      "Read 36000 patents from PatentsView.org so far\n",
      "Read 38000 patents from PatentsView.org so far\n",
      "Read 40000 patents from PatentsView.org so far\n",
      "Read 42000 patents from PatentsView.org so far\n",
      "Read 44000 patents from PatentsView.org so far\n",
      "Read 46000 patents from PatentsView.org so far\n",
      "Read 48000 patents from PatentsView.org so far\n",
      "Read 50000 patents from PatentsView.org so far\n",
      "Read 52000 patents from PatentsView.org so far\n",
      "Read 54000 patents from PatentsView.org so far\n",
      "Read 56000 patents from PatentsView.org so far\n",
      "Read 58000 patents from PatentsView.org so far\n",
      "Read 60000 patents from PatentsView.org so far\n",
      "Read 62000 patents from PatentsView.org so far\n",
      "Read 64000 patents from PatentsView.org so far\n",
      "Read 66000 patents from PatentsView.org so far\n",
      "Read 68000 patents from PatentsView.org so far\n",
      "Read 70000 patents from PatentsView.org so far\n",
      "Read 72000 patents from PatentsView.org so far\n",
      "Read 74000 patents from PatentsView.org so far\n",
      "Read 76000 patents from PatentsView.org so far\n",
      "Read 78000 patents from PatentsView.org so far\n",
      "Read 80000 patents from PatentsView.org so far\n",
      "Read 82000 patents from PatentsView.org so far\n",
      "Read 84000 patents from PatentsView.org so far\n",
      "Read 86000 patents from PatentsView.org so far\n",
      "Read 88000 patents from PatentsView.org so far\n",
      "Read 90000 patents from PatentsView.org so far\n",
      "Read 92000 patents from PatentsView.org so far\n",
      "Read 94000 patents from PatentsView.org so far\n",
      "Read 96000 patents from PatentsView.org so far\n",
      "Read 98000 patents from PatentsView.org so far\n",
      "Read 100000 patents from PatentsView.org so far\n"
     ]
    }
   ],
   "source": [
    "while (num_patents_read < total_patents):\n",
    "    if count == 0:\n",
    "        url ='http://www.patentsview.org/api/patents/query?q={\"_and\":[{\"_gte\":{\"patent_date\":\"2010-01-01\"}},{\"_lte\":{\"patent_date\":\"2010-12-31\"}},{\"assignee_country\":\"US\"}]}'\n",
    "        test_cit = requests.get(url)\n",
    "        total_patents = json.loads(test_cit.content)['total_patent_count']\n",
    "        print \"Total number of patents to read {}\".format(total_patents)\n",
    "        count = count + 1\n",
    "    else:\n",
    "        url ='http://www.patentsview.org/api/patents/query?q={\"_and\":[{\"_gte\":{\"patent_date\":\"2010-01-01\"}},{\"_lte\":{\"patent_date\":\"2010-12-31\"}},{\"assignee_country\":\"US\"}]}&f=[\"patent_number\",\"patent_date\",\"patent_title\",\"patent_year\",\"inventor_first_name\",\"inventor_last_name\",\"patent_abstract\",\"cited_patent_number\",\"cited_patent_title\",\"citedby_patent_number\",\"citedby_patent_title\",\"assignee_type\",\"assignee_organization\",\"assignee_country\",\"assignee_state\",\"assignee_city\",\"patent_type\",\"cpc_category\",\"cpc_section_id\",\"assignee_latitude\",\"assignee_longitude\",\"patent_num_cited_by_us_patents\",\"patent_num_us_patent_citations\",\"inventor_sequence\"]'\n",
    "        url = url + '&o=' + '{{\"page\":{},\"per_page\":{}}}'.format(page_num,per_page)\n",
    "        test_cit = requests.get(url)\n",
    "        patents_json = json.loads(test_cit.content)['patents']\n",
    "        #flattened_list  = list(itertools.chain(*patents_json))\n",
    "        \n",
    "        for patent in patents_json:\n",
    "            c.execute('INSERT INTO Patents VALUES (?,?,?,?,?,?,?,?,?,?,?,?,?,?,?,?,?)',\n",
    "             (patent_number(patent),patent_date(patent),patent_type(patent),patent_year(patent),\n",
    "              patent_title(patent),patent_abstract(patent),first_inventor_name(patent),coinventors(patent),\n",
    "             cpc_category(patent),cpc_section_id(patent),assignee_city(patent),assignee_country(patent),\n",
    "             assignee_organization(patent),assignee_state(patent),assignee_type(patent),\n",
    "             patent_num_cited_by_us_patents(patent),patent_num_us_patent_citations(patent)))\n",
    "        \n",
    "            for citedpat in cited_patents(patent):\n",
    "                c.execute('INSERT INTO PatentsCited VALUES (?,?,?,?)',\n",
    "                         (citedpat[0],citedpat[1],citedpat[2],citedpat[3]))\n",
    "                \n",
    "        page_num = page_num + 1\n",
    "        num_patents_read = num_patents_read + len(patents_json)\n",
    "        print \"Read {} patents from PatentsView.org so far\".format(num_patents_read)\n",
    "        count = count + 1\n",
    "        time.sleep(request_lapse)"
   ]
  },
  {
   "cell_type": "code",
   "execution_count": 15,
   "metadata": {
    "collapsed": true
   },
   "outputs": [],
   "source": [
    "conn.commit()"
   ]
  },
  {
   "cell_type": "code",
   "execution_count": 134,
   "metadata": {
    "collapsed": true
   },
   "outputs": [],
   "source": [
    "conn.close()"
   ]
  },
  {
   "cell_type": "code",
   "execution_count": 45,
   "metadata": {
    "collapsed": true
   },
   "outputs": [],
   "source": [
    "#below is just testing work"
   ]
  },
  {
   "cell_type": "code",
   "execution_count": 116,
   "metadata": {},
   "outputs": [
    {
     "data": {
      "text/plain": [
       "{u'assignees': [{u'assignee_city': u'Rancho Santa Margarita',\n",
       "   u'assignee_country': u'US',\n",
       "   u'assignee_latitude': u'33.6408',\n",
       "   u'assignee_longitude': u'-117.602',\n",
       "   u'assignee_organization': u'Crucible Intellectual Property, LLC',\n",
       "   u'assignee_state': u'CA',\n",
       "   u'assignee_type': u''}],\n",
       " u'cited_patents': [{u'cited_patent_number': None,\n",
       "   u'cited_patent_title': None},\n",
       "  {u'cited_patent_number': u'3948613',\n",
       "   u'cited_patent_title': u'Process for applying a protective wear surface to a wear part'},\n",
       "  {u'cited_patent_number': u'3970445',\n",
       "   u'cited_patent_title': u'Wear-resistant alloy, and method of making same'},\n",
       "  {u'cited_patent_number': u'3986867',\n",
       "   u'cited_patent_title': u'Iron-chromium series amorphous alloys'},\n",
       "  {u'cited_patent_number': u'3986892',\n",
       "   u'cited_patent_title': u'Porous cobalt electrodes for alkaline accumulators and hybrid cell therewith and air electrode'},\n",
       "  {u'cited_patent_number': u'4024902',\n",
       "   u'cited_patent_title': u'Method of forming metal tungsten carbide composites'},\n",
       "  {u'cited_patent_number': u'4067732',\n",
       "   u'cited_patent_title': u'Amorphous alloys which include iron group elements and boron'},\n",
       "  {u'cited_patent_number': u'4124472',\n",
       "   u'cited_patent_title': u'Process for the protection of wear surfaces'},\n",
       "  {u'cited_patent_number': u'4125737',\n",
       "   u'cited_patent_title': u'Electric arc furnace hearth connection'},\n",
       "  {u'cited_patent_number': u'4260416',\n",
       "   u'cited_patent_title': u'Amorphous metal alloy for structural reinforcement'},\n",
       "  {u'cited_patent_number': u'4268564',\n",
       "   u'cited_patent_title': u'Strips of metallic glasses containing embedded particulate matter'},\n",
       "  {u'cited_patent_number': u'4330027',\n",
       "   u'cited_patent_title': u'Method of making strips of metallic glasses containing embedded particulate matter'},\n",
       "  {u'cited_patent_number': u'4374900',\n",
       "   u'cited_patent_title': u'Composite diamond compact for a wire drawing die and a process for the production of the same'},\n",
       "  {u'cited_patent_number': u'4381943',\n",
       "   u'cited_patent_title': u'Chemically homogeneous microcrystalline metal powder for coating substrates'},\n",
       "  {u'cited_patent_number': u'4396820',\n",
       "   u'cited_patent_title': u'Method of making a filled electrode for arc welding'},\n",
       "  {u'cited_patent_number': u'4409296',\n",
       "   u'cited_patent_title': u'Rapidly cast alloy strip having dissimilar portions'},\n",
       "  {u'cited_patent_number': u'4482612',\n",
       "   u'cited_patent_title': u'Low alloy or carbon steel roll with a built-up weld layer of an iron alloy containing carbon, chromium, molybdenum and cobalt'},\n",
       "  {u'cited_patent_number': u'4487630',\n",
       "   u'cited_patent_title': u'Wear-resistant stainless steel'},\n",
       "  {u'cited_patent_number': u'4488882',\n",
       "   u'cited_patent_title': u'Method of embedding hard cutting particles in a surface of a cutting edge of cutting tools, particularly saw blades, drills and the like'},\n",
       "  {u'cited_patent_number': u'4499158',\n",
       "   u'cited_patent_title': u'Welded structural member having high erosion resistance'},\n",
       "  {u'cited_patent_number': u'4515870',\n",
       "   u'cited_patent_title': u'Homogeneous, ductile iron based hardfacing foils'},\n",
       "  {u'cited_patent_number': u'4523625',\n",
       "   u'cited_patent_title': u'Method of making strips of metallic glasses having uniformly distributed embedded particulate matter'},\n",
       "  {u'cited_patent_number': u'4526618',\n",
       "   u'cited_patent_title': u'Abrasion resistant coating composition'},\n",
       "  {u'cited_patent_number': u'4557981',\n",
       "   u'cited_patent_title': u'Article comprising a substrate having a hard and corrosion-proof coating thereon'},\n",
       "  {u'cited_patent_number': u'4564396',\n",
       "   u'cited_patent_title': u'Formation of amorphous materials'},\n",
       "  {u'cited_patent_number': u'4585617',\n",
       "   u'cited_patent_title': u'Amorphous metal alloy compositions and synthesis of same by solid state incorporation/reduction reactions'},\n",
       "  {u'cited_patent_number': u'4612059',\n",
       "   u'cited_patent_title': u'Method of producing a composite material composed of a matrix and an amorphous material'},\n",
       "  {u'cited_patent_number': u'4656099',\n",
       "   u'cited_patent_title': u'Corrosion, erosion and wear resistant alloy structures and method therefor'},\n",
       "  {u'cited_patent_number': u'4668310',\n",
       "   u'cited_patent_title': u'Amorphous alloys'},\n",
       "  {u'cited_patent_number': u'4725512',\n",
       "   u'cited_patent_title': u'Materials transformable from the nonamorphous to the amorphous state under frictional loadings'},\n",
       "  {u'cited_patent_number': u'4731253',\n",
       "   u'cited_patent_title': u'Wear resistant coating and process'},\n",
       "  {u'cited_patent_number': u'4741974',\n",
       "   u'cited_patent_title': u'Composite wire for wear resistant coatings'},\n",
       "  {u'cited_patent_number': u'4770701',\n",
       "   u'cited_patent_title': u'Metal-ceramic composites and method of making'},\n",
       "  {u'cited_patent_number': u'4810850',\n",
       "   u'cited_patent_title': u'Method of arc spraing and filler wire for producing a coating which is highly resistant to mechanical and/or chemical wear'},\n",
       "  {u'cited_patent_number': u'4960643',\n",
       "   u'cited_patent_title': u'Composite synthetic materials'},\n",
       "  {u'cited_patent_number': u'4987033',\n",
       "   u'cited_patent_title': u'Impact resistant clad composite armor and method for forming such armor'},\n",
       "  {u'cited_patent_number': u'5127969',\n",
       "   u'cited_patent_title': u'Reinforced solder, brazing and welding compositions and methods for preparation thereof'},\n",
       "  {u'cited_patent_number': u'5189252',\n",
       "   u'cited_patent_title': u'Environmentally improved shot'},\n",
       "  {u'cited_patent_number': u'5288344',\n",
       "   u'cited_patent_title': u'Berylllium bearing amorphous metallic alloys formed by low cooling rates'},\n",
       "  {u'cited_patent_number': u'5294462',\n",
       "   u'cited_patent_title': u'Electric arc spray coating with cored wire'},\n",
       "  {u'cited_patent_number': u'5368659',\n",
       "   u'cited_patent_title': u'Method of forming berryllium bearing metallic glass'},\n",
       "  {u'cited_patent_number': u'5380349',\n",
       "   u'cited_patent_title': u'Mold having a diamond layer, for molding optical elements'},\n",
       "  {u'cited_patent_number': u'5440995',\n",
       "   u'cited_patent_title': u'Tungsten penetrators'},\n",
       "  {u'cited_patent_number': u'5482577',\n",
       "   u'cited_patent_title': u'Amorphous alloys resistant against hot corrosion'},\n",
       "  {u'cited_patent_number': u'5567251',\n",
       "   u'cited_patent_title': u'Amorphous metal/reinforcement composite material'},\n",
       "  {u'cited_patent_number': u'5567532',\n",
       "   u'cited_patent_title': u'Amorphous metal/diamond composite material'},\n",
       "  {u'cited_patent_number': u'5735975',\n",
       "   u'cited_patent_title': u'Quinary metallic glass alloys'},\n",
       "  {u'cited_patent_number': u'5866254',\n",
       "   u'cited_patent_title': u'Amorphous metal/reinforcement composite material'},\n",
       "  {u'cited_patent_number': u'6010580',\n",
       "   u'cited_patent_title': u'Composite penetrator'},\n",
       "  {u'cited_patent_number': u'6183889',\n",
       "   u'cited_patent_title': u'Magneto-impedance element, and magnetic head, thin film magnetic head, azimuth sensor and autocanceler using the same'},\n",
       "  {u'cited_patent_number': u'6218029',\n",
       "   u'cited_patent_title': u'Thermal barrier coating for a superalloy article and a method of application thereof'},\n",
       "  {u'cited_patent_number': u'6325868',\n",
       "   u'cited_patent_title': u'Nickel-based amorphous alloy compositions'},\n",
       "  {u'cited_patent_number': u'6326295',\n",
       "   u'cited_patent_title': u'Method and structure for improved alignment tolerance in multiple, singulated plugs and interconnection'}],\n",
       " u'citedby_patents': [{u'citedby_patent_number': None,\n",
       "   u'citedby_patent_title': None}],\n",
       " u'cpcs': [{u'cpc_category': None, u'cpc_section_id': None}],\n",
       " u'inventors': [{u'inventor_first_name': u'Steven W.',\n",
       "   u'inventor_last_name': u'Collier',\n",
       "   u'inventor_sequence': u'0'},\n",
       "  {u'inventor_first_name': u'Atakan',\n",
       "   u'inventor_last_name': u'Peker',\n",
       "   u'inventor_sequence': u'1'}],\n",
       " u'patent_abstract': u'An impact resistant clad composite armor which includes a ceramic core, and a layer of bulk amorphous alloy surrounding the ceramic core and preferably bonded chemically to the ceramic core and a method of manufacturing such armor is provided.',\n",
       " u'patent_date': u'2015-12-29',\n",
       " u'patent_num_cited_by_us_patents': u'0',\n",
       " u'patent_num_us_patent_citations': u'59',\n",
       " u'patent_number': u'RE45830',\n",
       " u'patent_title': u'Encapsulated ceramic armor',\n",
       " u'patent_type': u'reissue',\n",
       " u'patent_year': u'2015'}"
      ]
     },
     "execution_count": 116,
     "metadata": {},
     "output_type": "execute_result"
    }
   ],
   "source": [
    "patents_json[22]"
   ]
  },
  {
   "cell_type": "code",
   "execution_count": 98,
   "metadata": {
    "collapsed": true
   },
   "outputs": [],
   "source": [
    "count = 0\n",
    "for patent in patents_json:\n",
    "    invent = first_inventor_name(patent)\n",
    "    count = count + 1"
   ]
  },
  {
   "cell_type": "code",
   "execution_count": 99,
   "metadata": {},
   "outputs": [
    {
     "data": {
      "text/plain": [
       "2000"
      ]
     },
     "execution_count": 99,
     "metadata": {},
     "output_type": "execute_result"
    }
   ],
   "source": [
    "count"
   ]
  },
  {
   "cell_type": "code",
   "execution_count": 51,
   "metadata": {},
   "outputs": [
    {
     "data": {
      "text/plain": [
       "{u'inventor_first_name': None,\n",
       " u'inventor_last_name': None,\n",
       " u'inventor_sequence': None}"
      ]
     },
     "execution_count": 51,
     "metadata": {},
     "output_type": "execute_result"
    }
   ],
   "source": [
    "patents_json[277]['inventors'][0]"
   ]
  },
  {
   "cell_type": "code",
   "execution_count": 54,
   "metadata": {
    "collapsed": true
   },
   "outputs": [],
   "source": [
    "if None not in patents_json[277]['inventors'][0].values():\n",
    "    print 'yeah'"
   ]
  },
  {
   "cell_type": "code",
   "execution_count": 91,
   "metadata": {},
   "outputs": [
    {
     "name": "stdout",
     "output_type": "stream",
     "text": [
      "[{u'inventor_sequence': u'0', u'inventor_first_name': u'Hugo L.', u'inventor_last_name': u'Zorrilla'}]\n",
      "1\n",
      "yeah\n"
     ]
    }
   ],
   "source": [
    "p = patents_json[278]\n",
    "inventors = p['inventors']\n",
    "print inventors\n",
    "print len(inventors)\n",
    "if len(inventors) >0 and None not in inventors[0].values():\n",
    "    print 'yeah'"
   ]
  },
  {
   "cell_type": "code",
   "execution_count": 84,
   "metadata": {},
   "outputs": [
    {
     "data": {
      "text/plain": [
       "False"
      ]
     },
     "execution_count": 84,
     "metadata": {},
     "output_type": "execute_result"
    }
   ],
   "source": [
    "None in [d.values() for d in inventors]"
   ]
  },
  {
   "cell_type": "code",
   "execution_count": 76,
   "metadata": {},
   "outputs": [
    {
     "ename": "AttributeError",
     "evalue": "'list' object has no attribute 'values'",
     "output_type": "error",
     "traceback": [
      "\u001b[1;31m---------------------------------------------------------------------------\u001b[0m",
      "\u001b[1;31mAttributeError\u001b[0m                            Traceback (most recent call last)",
      "\u001b[1;32m<ipython-input-76-098b09fb19fd>\u001b[0m in \u001b[0;36m<module>\u001b[1;34m()\u001b[0m\n\u001b[0;32m      1\u001b[0m \u001b[0ma\u001b[0m \u001b[1;33m=\u001b[0m \u001b[1;33m[\u001b[0m\u001b[1;33m{\u001b[0m\u001b[1;34mu'inventor_sequence'\u001b[0m\u001b[1;33m:\u001b[0m \u001b[1;34mu'1'\u001b[0m\u001b[1;33m,\u001b[0m \u001b[1;34mu'inventor_first_name'\u001b[0m\u001b[1;33m:\u001b[0m \u001b[0mNone\u001b[0m\u001b[1;33m,\u001b[0m \u001b[1;34mu'inventor_last_name'\u001b[0m\u001b[1;33m:\u001b[0m \u001b[1;34mu'Frank'\u001b[0m\u001b[1;33m}\u001b[0m\u001b[1;33m,\u001b[0m \u001b[1;33m{\u001b[0m\u001b[1;34mu'inventor_sequence'\u001b[0m\u001b[1;33m:\u001b[0m \u001b[1;34mu'0'\u001b[0m\u001b[1;33m,\u001b[0m \u001b[1;34mu'inventor_first_name'\u001b[0m\u001b[1;33m:\u001b[0m \u001b[1;34mu'Sandeep H.'\u001b[0m\u001b[1;33m,\u001b[0m \u001b[1;34mu'inventor_last_name'\u001b[0m\u001b[1;33m:\u001b[0m \u001b[1;34mu'Krishnamurthy'\u001b[0m\u001b[1;33m}\u001b[0m\u001b[1;33m]\u001b[0m\u001b[1;33m\u001b[0m\u001b[0m\n\u001b[1;32m----> 2\u001b[1;33m \u001b[0mNone\u001b[0m \u001b[1;32min\u001b[0m \u001b[0minventors\u001b[0m\u001b[1;33m[\u001b[0m\u001b[1;33m:\u001b[0m\u001b[1;33m]\u001b[0m\u001b[1;33m.\u001b[0m\u001b[0mvalues\u001b[0m\u001b[1;33m(\u001b[0m\u001b[1;33m)\u001b[0m\u001b[1;33m\u001b[0m\u001b[0m\n\u001b[0m",
      "\u001b[1;31mAttributeError\u001b[0m: 'list' object has no attribute 'values'"
     ]
    }
   ],
   "source": [
    "a = [{u'inventor_sequence': u'1', u'inventor_first_name': None, u'inventor_last_name': u'Frank'}, {u'inventor_sequence': u'0', u'inventor_first_name': u'Sandeep H.', u'inventor_last_name': u'Krishnamurthy'}]\n",
    "None in inventors[:].values()"
   ]
  },
  {
   "cell_type": "code",
   "execution_count": 126,
   "metadata": {},
   "outputs": [
    {
     "data": {
      "text/plain": [
       "[(539947,)]"
      ]
     },
     "execution_count": 126,
     "metadata": {},
     "output_type": "execute_result"
    }
   ],
   "source": [
    "numrows = c.execute(\"SELECT COUNT (*) FROM Patents\")\n",
    "numrows.fetchall()"
   ]
  },
  {
   "cell_type": "code",
   "execution_count": 131,
   "metadata": {},
   "outputs": [
    {
     "ename": "IndexError",
     "evalue": "list index out of range",
     "output_type": "error",
     "traceback": [
      "\u001b[1;31m---------------------------------------------------------------------------\u001b[0m",
      "\u001b[1;31mIndexError\u001b[0m                                Traceback (most recent call last)",
      "\u001b[1;32m<ipython-input-131-458214dd40f6>\u001b[0m in \u001b[0;36m<module>\u001b[1;34m()\u001b[0m\n\u001b[1;32m----> 1\u001b[1;33m \u001b[0mpatents_json\u001b[0m\u001b[1;33m[\u001b[0m\u001b[1;36m0\u001b[0m\u001b[1;33m]\u001b[0m\u001b[1;33m\u001b[0m\u001b[0m\n\u001b[0m",
      "\u001b[1;31mIndexError\u001b[0m: list index out of range"
     ]
    }
   ],
   "source": [
    "patents_json[0]"
   ]
  },
  {
   "cell_type": "code",
   "execution_count": 18,
   "metadata": {},
   "outputs": [
    {
     "data": {
      "text/plain": [
       "[(u'9693497',\n",
       "  u'2017-07-04',\n",
       "  u'utility',\n",
       "  2017,\n",
       "  u'Mounting bracket for agricultural row unit',\n",
       "  u'A row unit for an agricultural planter is provided. The row unit may include a body operably coupled to the agricultural planter, a bracket secured to the body, and a chassis pivotably coupled to the bracket. The bracket may include a top wall and opposing sidewalls extending downwardly from the top wall. The chassis may be coupled to the bracket beneath the top wall of the bracket.',\n",
       "  u'Paul E. Schaffert',\n",
       "  u'',\n",
       "  u'inventional',\n",
       "  u'A',\n",
       "  u'Indianola',\n",
       "  u'US',\n",
       "  u'SCHAFFERT MANUFACTURING COMPANY, INC.',\n",
       "  u'IA',\n",
       "  u'',\n",
       "  0,\n",
       "  78)]"
      ]
     },
     "execution_count": 18,
     "metadata": {},
     "output_type": "execute_result"
    }
   ],
   "source": [
    "findrows = conn.cursor()\n",
    "testrows = findrows.execute(\"SELECT * FROM Patents WHERE patent_number='9693497'\")\n",
    "testrows.fetchall()"
   ]
  },
  {
   "cell_type": "code",
   "execution_count": 19,
   "metadata": {
    "collapsed": true
   },
   "outputs": [],
   "source": [
    "conn.close()"
   ]
  },
  {
   "cell_type": "code",
   "execution_count": 100,
   "metadata": {
    "collapsed": true
   },
   "outputs": [],
   "source": [
    "def first_inventor_name(patent):\n",
    "    try:\n",
    "        inventors= patent['inventors']\n",
    "    except:\n",
    "        return ''\n",
    "    inventors.sort(key=operator.itemgetter('inventor_sequence'))\n",
    "    if len(inventors) >0 and None not in inventors[0].values(): \n",
    "        if len(inventors[0]['inventor_first_name']) >0:\n",
    "            return inventors[0]['inventor_first_name'] + ' ' + inventors[0]['inventor_last_name']\n",
    "        else:\n",
    "            return ''\n",
    "    else:\n",
    "        return ''\n",
    "\n",
    "def coinventors(patent):\n",
    "    try:\n",
    "        inventors = patent['inventors']\n",
    "    except:\n",
    "        return ''\n",
    "    inventors.sort(key=operator.itemgetter('inventor_sequence'))\n",
    "    coinventors = ''\n",
    "    \n",
    "    if len(inventors)>0:\n",
    "        for i in range(1,len(inventors)):\n",
    "            if None not in inventors[i].values():\n",
    "                if i == len(inventors) - 1:\n",
    "                    coinventors = coinventors + inventors[i]['inventor_first_name'] + ' ' + inventors[i]['inventor_last_name']\n",
    "                else:\n",
    "                    coinventors = coinventors + inventors[i]['inventor_first_name'] + ' ' + inventors[i]['inventor_last_name'] + ', '\n",
    "            else:\n",
    "                return ''\n",
    "        return coinventors\n",
    "    else:\n",
    "        return ''"
   ]
  },
  {
   "cell_type": "code",
   "execution_count": 101,
   "metadata": {
    "collapsed": true
   },
   "outputs": [],
   "source": [
    "count = 0\n",
    "for patent in patents_json:\n",
    "    invent = coinventors(patent)\n",
    "    count = count + 1"
   ]
  },
  {
   "cell_type": "code",
   "execution_count": 102,
   "metadata": {},
   "outputs": [
    {
     "data": {
      "text/plain": [
       "2000"
      ]
     },
     "execution_count": 102,
     "metadata": {},
     "output_type": "execute_result"
    }
   ],
   "source": [
    "count"
   ]
  },
  {
   "cell_type": "code",
   "execution_count": null,
   "metadata": {
    "collapsed": true
   },
   "outputs": [],
   "source": []
  }
 ],
 "metadata": {
  "kernelspec": {
   "display_name": "Python 2",
   "language": "python",
   "name": "python2"
  },
  "language_info": {
   "codemirror_mode": {
    "name": "ipython",
    "version": 2
   },
   "file_extension": ".py",
   "mimetype": "text/x-python",
   "name": "python",
   "nbconvert_exporter": "python",
   "pygments_lexer": "ipython2",
   "version": "2.7.13"
  }
 },
 "nbformat": 4,
 "nbformat_minor": 2
}
